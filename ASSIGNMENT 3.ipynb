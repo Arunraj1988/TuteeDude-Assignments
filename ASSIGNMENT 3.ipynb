{
 "cells": [
  {
   "cell_type": "markdown",
   "id": "c232d259-4f7b-4ecd-b5b4-b88e80cb308b",
   "metadata": {},
   "source": [
    "# <center> <u>ASSIGNMENT 3\n",
    "## Module 4: Functions & Modules in Python \n",
    "### <u>Task 1: Calculate Factorial Using a Function "
   ]
  },
  {
   "cell_type": "markdown",
   "id": "3e4568ce-7105-4505-970f-651ddada5c9d",
   "metadata": {},
   "source": [
    "$0! = 1$  \n",
    "$1! = 1 \\times 0! = 1 \\times 1 = 1$  \n",
    "$2! = 2 \\times 1! = 2 \\times 1 = 2$  \n",
    "$3! = 3 \\times 2! = 3 \\times 2 = 6$\n"
   ]
  },
  {
   "cell_type": "code",
   "execution_count": 7,
   "id": "aed39f05-381f-40f2-b186-670c180772b1",
   "metadata": {},
   "outputs": [
    {
     "name": "stdin",
     "output_type": "stream",
     "text": [
      "Enter the number 5\n"
     ]
    },
    {
     "name": "stdout",
     "output_type": "stream",
     "text": [
      "Factorial of 5 : 120\n"
     ]
    }
   ],
   "source": [
    "def factorial(n):\n",
    "    if n<2:\n",
    "        return 1\n",
    "    else :\n",
    "        return n *(factorial(n-1))\n",
    "num = int(input(\"Enter the number\"))\n",
    "ans = factorial(num)\n",
    "print(f\"Factorial of {num} : {ans}\")   \n",
    "    \n",
    "    "
   ]
  },
  {
   "cell_type": "markdown",
   "id": "e7f27c9f-078d-4ae9-87fc-f632324e495d",
   "metadata": {},
   "source": [
    "### <u>Task 2: Using the Math Module for Calculations\n"
   ]
  },
  {
   "cell_type": "code",
   "execution_count": 11,
   "id": "0d74b134-c91f-4513-98b9-cc8e74c40eb8",
   "metadata": {},
   "outputs": [
    {
     "name": "stdin",
     "output_type": "stream",
     "text": [
      "Enter a number :  25\n"
     ]
    },
    {
     "name": "stdout",
     "output_type": "stream",
     "text": [
      "Square root of 25 :\t5.0\n",
      "Natural Logarithm (log base e) of 25 :\t3.2188758248682006\n",
      "Sine of 25 :\t-0.13235175009777303\n"
     ]
    }
   ],
   "source": [
    "import math\n",
    "n = int(input(\"Enter a number : \"))\n",
    "print(f\"Square root of {n} :\\t{math.sqrt(n)}\")\n",
    "print(f\"Natural Logarithm (log base e) of {n} :\\t{math.log(n)}\")\n",
    "print(f\"Sine of {n} :\\t{math.sin(n)}\")"
   ]
  },
  {
   "cell_type": "code",
   "execution_count": null,
   "id": "010155a0-643c-4329-86a2-953b2790253b",
   "metadata": {},
   "outputs": [],
   "source": []
  }
 ],
 "metadata": {
  "kernelspec": {
   "display_name": "Python 3 (ipykernel)",
   "language": "python",
   "name": "python3"
  },
  "language_info": {
   "codemirror_mode": {
    "name": "ipython",
    "version": 3
   },
   "file_extension": ".py",
   "mimetype": "text/x-python",
   "name": "python",
   "nbconvert_exporter": "python",
   "pygments_lexer": "ipython3",
   "version": "3.11.8"
  }
 },
 "nbformat": 4,
 "nbformat_minor": 5
}
