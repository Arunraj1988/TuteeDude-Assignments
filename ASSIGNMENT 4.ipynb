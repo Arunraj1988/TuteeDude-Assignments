{
 "cells": [
  {
   "cell_type": "markdown",
   "id": "ac488b5a-7b7c-48b8-bb41-122a3099f424",
   "metadata": {},
   "source": [
    "# <center><u>ASSIGNMENT 4\n",
    "## <center> Module 5: Files, Exceptions, and Errors in Python"
   ]
  },
  {
   "cell_type": "markdown",
   "id": "f1b5d633-fc1a-40f7-bf7b-6523ea2eefa3",
   "metadata": {},
   "source": [
    "### <u>Task 1: Read a File and Handle Errors \n",
    "#### Problem Statement:  Write a Python program that:\n",
    "1.   Opens and reads a text file named sample.txt.\n",
    "2.   Prints its content line by line.\n",
    "3.   Handles errors gracefully if the file does not exist."
   ]
  },
  {
   "cell_type": "markdown",
   "id": "5bb5b01e-a127-4cfa-adad-aac47a47cb04",
   "metadata": {},
   "source": [
    "### Q1.a) Condtion 1: if file does not exist:\n",
    "- Print --> Error : The file sample1.txt does not exist.\n"
   ]
  },
  {
   "cell_type": "code",
   "execution_count": 1,
   "id": "eae48578-de8c-49db-b32c-519f22ce24bb",
   "metadata": {},
   "outputs": [
    {
     "name": "stdout",
     "output_type": "stream",
     "text": [
      "Error : The file sample1.txt does not exist.\n"
     ]
    }
   ],
   "source": [
    "def read_file (filename ='sample1.txt'):\n",
    "    try:\n",
    "        with open(filename,'r') as f:\n",
    "            for line in f:\n",
    "                print(line.rstrip('\\n'))\n",
    "\n",
    "    except FileNotFoundError:\n",
    "        print(f\"Error : The file {filename} does not exist.\")\n",
    "\n",
    "if __name__ == \"__main__\":\n",
    "    read_file()"
   ]
  },
  {
   "cell_type": "markdown",
   "id": "cd094572-e096-4ed0-b762-41db62205326",
   "metadata": {},
   "source": [
    "### Q1.b) Condtion 2: if file exist:\n",
    "- Print --> Line 1: content\n",
    "- print --> Line 2: content"
   ]
  },
  {
   "cell_type": "code",
   "execution_count": 2,
   "id": "1189d258-2c29-4427-b9db-4b7f7d59faad",
   "metadata": {},
   "outputs": [
    {
     "name": "stdout",
     "output_type": "stream",
     "text": [
      "Error : The file sample_2.txt does not exist.\n"
     ]
    }
   ],
   "source": [
    "def read_file(filename = \"sample_2.txt\"):\n",
    "    try:\n",
    "        with open(filename,'r') as f:\n",
    "            print(\"Reading file content:\")\n",
    "            \n",
    "            for i,line in enumerate(f,start = 1):\n",
    "                print(f\"Line {i} : {line.rstrip()}\")\n",
    "\n",
    "    except FileNotFoundError:\n",
    "        print(f\"Error : The file {filename} does not exist.\")\n",
    "\n",
    "if __name__ == \"__main__\":\n",
    "    read_file()"
   ]
  },
  {
   "cell_type": "markdown",
   "id": "55b01b0d-c8f3-49b0-b78a-b4265d0d4971",
   "metadata": {},
   "source": [
    "### <u>Task 2: Write and Append data to a File\n",
    "#### <u>Problem Statement</u>: Write a Python program that:\n",
    "1.   Takes user input and writes it to a file named output.txt.\n",
    "2.   Appends additional data to the same file.\n",
    "3.   Reads and displays the final content of the file.\n"
   ]
  },
  {
   "cell_type": "code",
   "execution_count": 9,
   "id": "a8df9d35-5e6f-488e-8e00-de76e3bfa3e1",
   "metadata": {},
   "outputs": [
    {
     "name": "stdout",
     "output_type": "stream",
     "text": [
      "Hello, Python\n",
      "Learning file handling in Python\n"
     ]
    }
   ],
   "source": [
    "filename = \"output.txt\"\n",
    "with open(filename,\"w\")as file1:\n",
    "    file1.write(\"Hello, Python\\n\")\n",
    "with open(filename,\"a\")as file1:\n",
    "    file1.write(\"Learning file handling in Python\")\n",
    "\n",
    "with open(filename,\"r\")as file1:\n",
    "    content = file1.read()\n",
    "    print(content)\n"
   ]
  }
 ],
 "metadata": {
  "kernelspec": {
   "display_name": "Python 3 (ipykernel)",
   "language": "python",
   "name": "python3"
  },
  "language_info": {
   "codemirror_mode": {
    "name": "ipython",
    "version": 3
   },
   "file_extension": ".py",
   "mimetype": "text/x-python",
   "name": "python",
   "nbconvert_exporter": "python",
   "pygments_lexer": "ipython3",
   "version": "3.11.8"
  }
 },
 "nbformat": 4,
 "nbformat_minor": 5
}
