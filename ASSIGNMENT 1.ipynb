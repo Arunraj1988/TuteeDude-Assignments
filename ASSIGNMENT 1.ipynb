{
 "cells": [
  {
   "cell_type": "markdown",
   "id": "957a5c87-4679-44fc-9177-70c0462e7943",
   "metadata": {},
   "source": [
    "# ASSIGNMENT 1:"
   ]
  },
  {
   "cell_type": "markdown",
   "id": "4d34cecb-d023-4360-85d9-9931791a8a57",
   "metadata": {},
   "source": [
    "## Task 1: Perform Basic Mathematical Operations\n",
    "### <u>Problem Statement:</u> Write a Python program that does the following:\n",
    "#### 1.  Takes two numbers as input from the user.\n",
    "#### 2.  Performs the basic mathematical operations on these two numbers:\n",
    "- Addition\n",
    "- Subtraction\n",
    "- Multiplication\n",
    "- Division\n",
    "#### 3.  Displays the results of each operation on the screen.\n",
    "\n"
   ]
  },
  {
   "cell_type": "code",
   "execution_count": 4,
   "id": "029cbb9c-4d6b-43df-b989-3c36872600b7",
   "metadata": {},
   "outputs": [
    {
     "name": "stdout",
     "output_type": "stream",
     "text": [
      "Simple Calculator\n",
      "\n",
      "Operations:+,-,*,/\n"
     ]
    },
    {
     "name": "stdin",
     "output_type": "stream",
     "text": [
      "Number 1:  58\n",
      "Number 2:  12\n",
      "Enter operation:  *\n"
     ]
    },
    {
     "name": "stdout",
     "output_type": "stream",
     "text": [
      "Result : 696\n"
     ]
    }
   ],
   "source": [
    "def calculator():\n",
    "    print(\"Simple Calculator\",end = '\\n\\n')\n",
    "    print(\"Operations:+,-,*,/\")\n",
    "    num_1 = int(input(\"Number 1: \"))\n",
    "    num_2 = int(input(\"Number 2: \"))\n",
    "    op = input(\"Enter operation: \")\n",
    "\n",
    "    if op == '+':\n",
    "        result = num_1 + num_2\n",
    "    elif op == '-':\n",
    "        result = num_1 - num_2\n",
    "    elif op == '*':\n",
    "        result = num_1 * num_2\n",
    "    elif op == '/':\n",
    "        if num_2 !=0:\n",
    "            result = num_1/num_2\n",
    "        else : \n",
    "            return(\"Error : Division by zero not possible\")\n",
    "    else : \n",
    "        return(\"Correct operation symbol\")\n",
    "\n",
    "    return f\"Result : {result}\"\n",
    "\n",
    "print(calculator())\n",
    "    \n"
   ]
  },
  {
   "cell_type": "markdown",
   "id": "a2701547-2413-4ae6-ba17-cb22fe71cad5",
   "metadata": {},
   "source": [
    "## Task 2: Create a Personalized Greeting\n",
    "### <u> Problem Statement</u>: Write a Python program that:\n",
    "#### 1.  Takes a user's first name and last name as input.\n",
    "#### 2.  Concatenates the first name and last name into a full name.\n",
    "#### 3.  Prints a personalized greeting message using the full name.\n"
   ]
  },
  {
   "cell_type": "code",
   "execution_count": 6,
   "id": "4cf60807-bca4-4ff2-ac96-e5781c5bedef",
   "metadata": {},
   "outputs": [
    {
     "name": "stdin",
     "output_type": "stream",
     "text": [
      "Enter first name :  ABY\n",
      "Enter second name :  MANNU\n"
     ]
    },
    {
     "name": "stdout",
     "output_type": "stream",
     "text": [
      "Hello Aby Mannu! Welcome to Python program \n"
     ]
    }
   ],
   "source": [
    "name_1 = input(\"Enter first name : \")\n",
    "name_2 = input(\"Enter second name : \")\n",
    "print(f\"Hello {name_1.capitalize()} {name_2.capitalize()}! Welcome to Python program \")"
   ]
  },
  {
   "cell_type": "code",
   "execution_count": null,
   "id": "c1566ab9-18ff-4e58-ad5e-a58cc913cc1b",
   "metadata": {},
   "outputs": [],
   "source": []
  }
 ],
 "metadata": {
  "kernelspec": {
   "display_name": "Python 3 (ipykernel)",
   "language": "python",
   "name": "python3"
  },
  "language_info": {
   "codemirror_mode": {
    "name": "ipython",
    "version": 3
   },
   "file_extension": ".py",
   "mimetype": "text/x-python",
   "name": "python",
   "nbconvert_exporter": "python",
   "pygments_lexer": "ipython3",
   "version": "3.11.8"
  }
 },
 "nbformat": 4,
 "nbformat_minor": 5
}
