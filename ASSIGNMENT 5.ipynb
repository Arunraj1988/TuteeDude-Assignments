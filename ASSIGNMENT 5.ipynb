{
 "cells": [
  {
   "cell_type": "markdown",
   "id": "7cf42cc9-25c7-41b3-a610-69deef00b663",
   "metadata": {},
   "source": [
    "# <center><u>ASSIGNMENT 5\n",
    "## <center> Module 6: Data Structures and Strings in Python"
   ]
  },
  {
   "cell_type": "markdown",
   "id": "a1f6e2c2-5b3a-4277-a73d-252037658db8",
   "metadata": {},
   "source": [
    "### <u> Task 1: Create a Dictionary of Student Marks\n",
    "#### Problem Statement: Write a Python program that:\n",
    "1.   Creates a dictionary where student names are keys and their marks are values.\n",
    "2.   Asks the user to input a student's name.\n",
    "3.   Retrieves and displays the corresponding marks.\n",
    "4.   If the student’s name is not found, display an appropriate message."
   ]
  },
  {
   "cell_type": "code",
   "execution_count": 18,
   "id": "1cad6133-8d75-4213-83c2-745e45217640",
   "metadata": {},
   "outputs": [
    {
     "name": "stdout",
     "output_type": "stream",
     "text": [
      "dict_keys(['Arun', 'Meera', 'Rahul', 'Neha', 'Vishnu', 'Anjali', 'Kiran', 'Divya', 'Suresh', 'Lakshmi', 'Pranav', 'Aishwarya', 'Ravi', 'Nandini', 'Joseph'])\n",
      "\n",
      "Enter a name from above list\n",
      "\n"
     ]
    },
    {
     "name": "stdin",
     "output_type": "stream",
     "text": [
      "Enter student's name: Suresh\n"
     ]
    },
    {
     "name": "stdout",
     "output_type": "stream",
     "text": [
      "Suresh's mark :69\n"
     ]
    }
   ],
   "source": [
    "students = [\n",
    "    \"Arun\", \"Meera\", \"Rahul\", \"Neha\", \"Vishnu\",\n",
    "    \"Anjali\", \"Kiran\", \"Divya\", \"Suresh\", \"Lakshmi\",\n",
    "    \"Pranav\", \"Aishwarya\", \"Ravi\", \"Nandini\", \"Joseph\"\n",
    "]\n",
    "marks = [85, 92, 78, 88, 95, 76, 81, 90, 69, 87,\n",
    "         73, 94, 80, 86, 91]\n",
    "my_dict = dict(zip(students,marks))\n",
    "print(my_dict.keys(),end = '\\n\\n')\n",
    "print(\"Enter a name from above list\",end ='\\n\\n')\n",
    "\n",
    "name = input(\"Enter student's name:\")\n",
    "if name in my_dict:\n",
    "    print(f\"{name}'s mark :{my_dict[name]}\")\n",
    "\n",
    "else:\n",
    "    print(\"Enter valid name in the list\")"
   ]
  },
  {
   "cell_type": "markdown",
   "id": "4b430344-5182-4a83-88f2-189f5c42974c",
   "metadata": {},
   "source": [
    "### Task 2: Demonstrate List Slicing <b>\n",
    "**<u>Problem Statement:** Write a Python program that:\n",
    "1.   Creates a list of numbers from 1 to 10.\n",
    "2.   Extracts the first five elements from the list.\n",
    "3.   Reverses these extracted elements.\n",
    "4.   Prints both the extracted list and the reversed list\n"
   ]
  },
  {
   "cell_type": "code",
   "execution_count": 32,
   "id": "e6d5947e-18bd-4e7e-bbf6-4dd2f900e74e",
   "metadata": {},
   "outputs": [
    {
     "name": "stdout",
     "output_type": "stream",
     "text": [
      "List numbers from 1 to 10 = [1, 2, 3, 4, 5, 6, 7, 8, 9, 10]\n",
      "Extract first_five numbers :\t [1, 2, 3, 4, 5]\n",
      "Reverse extracted elments :\t [5, 4, 3, 2, 1]\n"
     ]
    }
   ],
   "source": [
    "\n",
    "numbers = list(range(1,11))\n",
    "print(\"List numbers from 1 to 10 =\",numbers)\n",
    "\n",
    "first_five = numbers[:5]\n",
    "print(\"Extract first_five numbers :\\t\",   first_five)\n",
    "\n",
    "reverse_elements = first_five[::-1]\n",
    "print(\"Reverse extracted elments :\\t\",reverse_elements)"
   ]
  }
 ],
 "metadata": {
  "kernelspec": {
   "display_name": "Python 3 (ipykernel)",
   "language": "python",
   "name": "python3"
  },
  "language_info": {
   "codemirror_mode": {
    "name": "ipython",
    "version": 3
   },
   "file_extension": ".py",
   "mimetype": "text/x-python",
   "name": "python",
   "nbconvert_exporter": "python",
   "pygments_lexer": "ipython3",
   "version": "3.11.8"
  }
 },
 "nbformat": 4,
 "nbformat_minor": 5
}
